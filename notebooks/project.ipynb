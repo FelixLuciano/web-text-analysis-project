{
 "cells": [
  {
   "attachments": {},
   "cell_type": "markdown",
   "metadata": {},
   "source": [
    "**Insper**  \n",
    "**Análise de Textos de Fontes Desestruturadas e WEB**\n",
    "\n",
    "# **IMDB:<br/>Recomendação de filmes baseada em semelhança de tópicos**\n",
    "\n",
    "**Beatriz de Jesus**  \n",
    "**Luciano Felix**  \n",
    "**Rodrigo Villela**\n"
   ]
  },
  {
   "attachments": {},
   "cell_type": "markdown",
   "metadata": {},
   "source": [
    "## **1. Introdução**\n",
    "\n",
    "O projeto que estamos desenvolvendo tem como objetivo criar uma ferramenta de recomendação de filmes personalizada, capaz de sugerir filmes com base nas preferências do usuário. Utilizando técnicas de webscraping e feature engineering, vamos extrair informações sobre filmes no IMDb. Essas informações incluirão título, rating médio dos usuários e enredo. Com base nesses dados, aplicaremos o algoritmo de recomendação para oferecer sugestões de filmes que sejam compatíveis com o interesse do usuário.\n"
   ]
  },
  {
   "attachments": {},
   "cell_type": "markdown",
   "metadata": {},
   "source": [
    "## **2. Problema**\n",
    "\n",
    "É muito comum a dificuldade que as pessoas encontram tem em escolher o que assistir em seu momento de lazer. Ironicamente, ter tantas opções nos torna mais seletivos e gera grande dificuldade para filtrar o que aparenta ser a melhor opção. O objetivo do projeto é criar um algoritmo capaz de identificar a melhor opção para o usuário a partir de uma rápida descrição deste mesmo. O programa fará isso captando as ‘keywords’ atreladas ao filme e correlacionando-as com a descrição dada pelo usuário.\n"
   ]
  },
  {
   "attachments": {},
   "cell_type": "markdown",
   "metadata": {},
   "source": [
    "## **3. Extração de Dados**"
   ]
  },
  {
   "cell_type": "code",
   "execution_count": null,
   "metadata": {},
   "outputs": [],
   "source": [
    "!pip install ipywidgets"
   ]
  },
  {
   "cell_type": "code",
   "execution_count": null,
   "metadata": {},
   "outputs": [],
   "source": [
    "from dataclasses import dataclass\n",
    "from typing import List, Dict\n",
    "from urllib.parse import urlparse\n",
    "from pathlib import PurePath\n",
    "\n",
    "import requests\n",
    "import numpy as np\n",
    "import pandas as pd\n",
    "from ast import literal_eval\n",
    "from bs4 import BeautifulSoup as bs\n",
    "import ipywidgets as widgets\n",
    "\n",
    "import nltk\n",
    "from gensim import corpora\n",
    "from gensim import models\n",
    "from gensim.parsing.preprocessing import preprocess_string\n",
    "\n",
    "nltk.download('stopwords')\n",
    "nltk.download('rslp')\n",
    "\n",
    "\n",
    "BASE_REQUESTS_HEADERS = {\n",
    "    \"User-Agent\": \"Mozilla/5.0 (Windows NT 10.0; Win64; x64) AppleWebKit/537.36 (KHTML, like Gecko) Chrome/102.0.0.0 Safari/537.36\"\n",
    "}\n"
   ]
  },
  {
   "attachments": {},
   "cell_type": "markdown",
   "metadata": {},
   "source": [
    "### **3.1. Obtenção da base de índice dos filmes**"
   ]
  },
  {
   "cell_type": "code",
   "execution_count": null,
   "metadata": {},
   "outputs": [],
   "source": [
    "def get_top_250_ids(headers: Dict[str, str] = BASE_REQUESTS_HEADERS) -> List[str]:\n",
    "    url = \"https://www.imdb.com/chart/top\"\n",
    "    response = requests.get(url, headers=headers)\n",
    "    soup = bs(response.text)\n",
    "\n",
    "    return [\n",
    "        PurePath(urlparse(node.attrs[\"href\"]).path).name\n",
    "        for node in soup.select('table > tbody > tr > td.titleColumn > a')\n",
    "    ]\n",
    "\n",
    "top_250_ids = get_top_250_ids()\n",
    "top_250_ids[:5]"
   ]
  },
  {
   "attachments": {},
   "cell_type": "markdown",
   "metadata": {},
   "source": [
    "### **3.2. Obtenção dos dados de cada filme individualmente**"
   ]
  },
  {
   "cell_type": "code",
   "execution_count": null,
   "metadata": {},
   "outputs": [],
   "source": [
    "@dataclass\n",
    "class Title:\n",
    "    id: str\n",
    "    title: str\n",
    "    score: float\n",
    "    plot: str\n",
    "    keywords: str\n",
    "\n",
    "def fetch_title_keywords(title_id: str, headers: Dict[str, str] = BASE_REQUESTS_HEADERS) -> List[str]:\n",
    "    url = f\"https://www.imdb.com/title/{title_id}/keywords\"\n",
    "    response = requests.get(url, headers=headers)\n",
    "    soup = bs(response.text)\n",
    "\n",
    "    item_nodes = soup.select(\".ipc-metadata-list-summary-item a\")\n",
    "\n",
    "    return [item.text for item in item_nodes]\n",
    "\n",
    "\n",
    "def fetch_title(title_id: str, headers: Dict[str, str] = BASE_REQUESTS_HEADERS) -> Title:\n",
    "    url = f\"https://www.imdb.com/title/{title_id}/\"\n",
    "    response = requests.get(url, headers=headers)\n",
    "    soup = bs(response.text)\n",
    "\n",
    "    title_node = soup.find(\"h1\")\n",
    "    score_node = soup.select_one('[data-testid=\"hero-rating-bar__aggregate-rating__score\"]').next_element\n",
    "    plot_node = soup.select_one('[data-testid=\"plot-xl\"]')\n",
    "\n",
    "    return Title(\n",
    "        id = title_id,\n",
    "        title = title_node.text,\n",
    "        score = float(score_node.text.replace(\",\", \".\")),\n",
    "        plot = plot_node.text,\n",
    "        keywords = \" \".join(fetch_title_keywords(title_id))\n",
    "    )\n"
   ]
  },
  {
   "cell_type": "code",
   "execution_count": null,
   "metadata": {},
   "outputs": [],
   "source": [
    "titles = []\n",
    "for index, title_id in enumerate(top_250_ids, 1):\n",
    "    print(f\"\\r{index} of {len(top_250_ids)}\", end=\"\")\n",
    "\n",
    "    titles.append(fetch_title(title_id) )\n",
    "\n",
    "print(f\"\\rComplete! \")\n",
    "\n",
    "df = pd.DataFrame(titles)\n",
    "df.head(5)"
   ]
  },
  {
   "attachments": {},
   "cell_type": "markdown",
   "metadata": {},
   "source": [
    "### **3.3 Limpeza dos dados**"
   ]
  },
  {
   "cell_type": "code",
   "execution_count": null,
   "metadata": {},
   "outputs": [],
   "source": [
    "df[\"tokens\"] = (df[\"plot\"]+df[\"keywords\"]).map(preprocess_string)\n",
    "\n",
    "df.head(5)"
   ]
  },
  {
   "attachments": {},
   "cell_type": "markdown",
   "metadata": {},
   "source": [
    "### **3.4. Salvando a base localmente**"
   ]
  },
  {
   "cell_type": "code",
   "execution_count": null,
   "metadata": {},
   "outputs": [],
   "source": [
    "df.to_csv(\"./project/data/imdb_top_250.csv\")"
   ]
  },
  {
   "attachments": {},
   "cell_type": "markdown",
   "metadata": {},
   "source": [
    "## **4. Análise**"
   ]
  },
  {
   "cell_type": "code",
   "execution_count": null,
   "metadata": {},
   "outputs": [],
   "source": [
    "df = pd.read_csv(\"./project/data/imdb_top_250.csv\", index_col=0)\n",
    "\n",
    "df[\"tokens\"] = df[\"tokens\"].apply(literal_eval)\n",
    "\n",
    "df.head()"
   ]
  },
  {
   "attachments": {},
   "cell_type": "markdown",
   "metadata": {},
   "source": [
    "### **4.1. Construção do modelo**"
   ]
  },
  {
   "cell_type": "code",
   "execution_count": null,
   "metadata": {},
   "outputs": [],
   "source": [
    "tokens = df[\"tokens\"]\n",
    "\n",
    "dictionary = corpora.Dictionary(tokens)\n",
    "corpus = [dictionary.doc2bow(document) for document in tokens]"
   ]
  },
  {
   "cell_type": "code",
   "execution_count": null,
   "metadata": {},
   "outputs": [],
   "source": [
    "lda = models.ldamodel.LdaModel(\n",
    "    corpus = corpus,\n",
    "    id2word=dictionary,\n",
    "    num_topics=df.shape[0],\n",
    "    passes=25,\n",
    "    random_state=1,\n",
    "    iterations=100\n",
    ")\n",
    "\n",
    "lda.save(\"./project/data/model.gensim\")"
   ]
  },
  {
   "attachments": {},
   "cell_type": "markdown",
   "metadata": {},
   "source": [
    "### **4.2. Extração dos tópicos da base de dados**"
   ]
  },
  {
   "cell_type": "code",
   "execution_count": null,
   "metadata": {},
   "outputs": [],
   "source": [
    "lda = lda.load(\"./project/data/model.gensim\")"
   ]
  },
  {
   "cell_type": "code",
   "execution_count": null,
   "metadata": {},
   "outputs": [],
   "source": [
    "def get_best_topic_match(topics):\n",
    "    topics_index, topics_chance = list(zip(*topics))\n",
    "\n",
    "    return topics[np.argmax(topics_chance)]\n",
    "\n",
    "\n",
    "topic_index = []\n",
    "accuracy = []\n",
    "\n",
    "for index, row in df.iterrows():\n",
    "    corpus = dictionary.doc2bow(row[\"tokens\"])\n",
    "    topics = lda.get_document_topics(corpus)\n",
    "    best_match = get_best_topic_match(topics)\n",
    "\n",
    "    topic_index.append(best_match[0])\n",
    "    accuracy.append(best_match[1])\n",
    "\n",
    "df[\"topic\"] = topic_index\n",
    "df[\"topic_accuracy\"] = accuracy\n",
    "\n",
    "df.head()"
   ]
  },
  {
   "attachments": {},
   "cell_type": "markdown",
   "metadata": {},
   "source": [
    "## **4.3. Encontrando correspodentes bom base nos tópicos**\n",
    "\n",
    "Insira na caixa de texto de descrição, as características do filme que você busca. Por exemplo:\n",
    "\n",
    "> After being forced to work for a crime boss, a young driver becomes involved in a heist destined to fail.\n",
    "\n",
    "Fonte: [Em Ritmo de Fuga, IMDb](https://www.imdb.com/title/tt3890160/)."
   ]
  },
  {
   "cell_type": "code",
   "execution_count": 249,
   "metadata": {},
   "outputs": [
    {
     "data": {
      "application/vnd.jupyter.widget-view+json": {
       "model_id": "2fc396e470e64914a51fab6ff27f5aec",
       "version_major": 2,
       "version_minor": 0
      },
      "text/plain": [
       "Text(value='', description='Descrição:', layout=Layout(width='auto'))"
      ]
     },
     "execution_count": 249,
     "metadata": {},
     "output_type": "execute_result"
    }
   ],
   "source": [
    "topics_input = widgets.Text(\n",
    "    description=\"Descrição:\",\n",
    "    layout=widgets.Layout(\n",
    "        width='auto'\n",
    "    )\n",
    ")\n",
    "\n",
    "topics_input"
   ]
  },
  {
   "cell_type": "code",
   "execution_count": 248,
   "metadata": {},
   "outputs": [
    {
     "data": {
      "text/html": [
       "<div>\n",
       "<style scoped>\n",
       "    .dataframe tbody tr th:only-of-type {\n",
       "        vertical-align: middle;\n",
       "    }\n",
       "\n",
       "    .dataframe tbody tr th {\n",
       "        vertical-align: top;\n",
       "    }\n",
       "\n",
       "    .dataframe thead th {\n",
       "        text-align: right;\n",
       "    }\n",
       "</style>\n",
       "<table border=\"1\" class=\"dataframe\">\n",
       "  <thead>\n",
       "    <tr style=\"text-align: right;\">\n",
       "      <th></th>\n",
       "      <th>accuracy</th>\n",
       "      <th>title</th>\n",
       "      <th>score</th>\n",
       "      <th>link</th>\n",
       "    </tr>\n",
       "  </thead>\n",
       "  <tbody>\n",
       "    <tr>\n",
       "      <th>8</th>\n",
       "      <td>42.78%</td>\n",
       "      <td>Taxi Driver: Motorista de Táxi</td>\n",
       "      <td>8.2</td>\n",
       "      <td>https://www.imdb.com/title/tt0075314</td>\n",
       "    </tr>\n",
       "    <tr>\n",
       "      <th>9</th>\n",
       "      <td>42.74%</td>\n",
       "      <td>Três Anúncios para um Crime</td>\n",
       "      <td>8.1</td>\n",
       "      <td>https://www.imdb.com/title/tt5027774</td>\n",
       "    </tr>\n",
       "    <tr>\n",
       "      <th>10</th>\n",
       "      <td>42.74%</td>\n",
       "      <td>Relatos Selvagens</td>\n",
       "      <td>8.1</td>\n",
       "      <td>https://www.imdb.com/title/tt3011894</td>\n",
       "    </tr>\n",
       "    <tr>\n",
       "      <th>7</th>\n",
       "      <td>42.67%</td>\n",
       "      <td>O Senhor dos Anéis: A Sociedade do Anel</td>\n",
       "      <td>8.8</td>\n",
       "      <td>https://www.imdb.com/title/tt0120737</td>\n",
       "    </tr>\n",
       "    <tr>\n",
       "      <th>0</th>\n",
       "      <td>18.57%</td>\n",
       "      <td>O Poderoso Chefão</td>\n",
       "      <td>9.2</td>\n",
       "      <td>https://www.imdb.com/title/tt0068646</td>\n",
       "    </tr>\n",
       "    <tr>\n",
       "      <th>3</th>\n",
       "      <td>18.56%</td>\n",
       "      <td>A Mulher Faz o Homem</td>\n",
       "      <td>8.1</td>\n",
       "      <td>https://www.imdb.com/title/tt0031679</td>\n",
       "    </tr>\n",
       "    <tr>\n",
       "      <th>2</th>\n",
       "      <td>18.53%</td>\n",
       "      <td>Sindicato de Ladrões</td>\n",
       "      <td>8.1</td>\n",
       "      <td>https://www.imdb.com/title/tt0047296</td>\n",
       "    </tr>\n",
       "    <tr>\n",
       "      <th>5</th>\n",
       "      <td>16.10%</td>\n",
       "      <td>Fogo Contra Fogo</td>\n",
       "      <td>8.3</td>\n",
       "      <td>https://www.imdb.com/title/tt0113277</td>\n",
       "    </tr>\n",
       "    <tr>\n",
       "      <th>4</th>\n",
       "      <td>15.21%</td>\n",
       "      <td>Os Incríveis</td>\n",
       "      <td>8.0</td>\n",
       "      <td>https://www.imdb.com/title/tt0317705</td>\n",
       "    </tr>\n",
       "    <tr>\n",
       "      <th>1</th>\n",
       "      <td>14.33%</td>\n",
       "      <td>Bastardos Inglórios</td>\n",
       "      <td>8.3</td>\n",
       "      <td>https://www.imdb.com/title/tt0361748</td>\n",
       "    </tr>\n",
       "    <tr>\n",
       "      <th>6</th>\n",
       "      <td>11.87%</td>\n",
       "      <td>Intocáveis</td>\n",
       "      <td>8.5</td>\n",
       "      <td>https://www.imdb.com/title/tt1675434</td>\n",
       "    </tr>\n",
       "  </tbody>\n",
       "</table>\n",
       "</div>"
      ],
      "text/plain": [
       "   accuracy                                    title  score   \n",
       "8    42.78%           Taxi Driver: Motorista de Táxi    8.2  \\\n",
       "9    42.74%              Três Anúncios para um Crime    8.1   \n",
       "10   42.74%                        Relatos Selvagens    8.1   \n",
       "7    42.67%  O Senhor dos Anéis: A Sociedade do Anel    8.8   \n",
       "0    18.57%                        O Poderoso Chefão    9.2   \n",
       "3    18.56%                     A Mulher Faz o Homem    8.1   \n",
       "2    18.53%                     Sindicato de Ladrões    8.1   \n",
       "5    16.10%                         Fogo Contra Fogo    8.3   \n",
       "4    15.21%                             Os Incríveis    8.0   \n",
       "1    14.33%                      Bastardos Inglórios    8.3   \n",
       "6    11.87%                               Intocáveis    8.5   \n",
       "\n",
       "                                    link  \n",
       "8   https://www.imdb.com/title/tt0075314  \n",
       "9   https://www.imdb.com/title/tt5027774  \n",
       "10  https://www.imdb.com/title/tt3011894  \n",
       "7   https://www.imdb.com/title/tt0120737  \n",
       "0   https://www.imdb.com/title/tt0068646  \n",
       "3   https://www.imdb.com/title/tt0031679  \n",
       "2   https://www.imdb.com/title/tt0047296  \n",
       "5   https://www.imdb.com/title/tt0113277  \n",
       "4   https://www.imdb.com/title/tt0317705  \n",
       "1   https://www.imdb.com/title/tt0361748  \n",
       "6   https://www.imdb.com/title/tt1675434  "
      ]
     },
     "execution_count": 248,
     "metadata": {},
     "output_type": "execute_result"
    }
   ],
   "source": [
    "@dataclass\n",
    "class Title:\n",
    "    accuracy: str\n",
    "    title: str\n",
    "    score: float\n",
    "    link: str\n",
    "\n",
    "input_tokens = preprocess_string(topics_input.value)\n",
    "input_corpus = dictionary.doc2bow(input_tokens)\n",
    "input_topics = lda.get_document_topics(input_corpus)\n",
    "topics = lda.show_topics(num_topics=-1, num_words=len(input_corpus), formatted=False)\n",
    "titles = []\n",
    "\n",
    "for index, accuracy in input_topics:\n",
    "    matches = np.where(df[\"topic\"] == index)[0]\n",
    "    movies = df.iloc[matches, :]\n",
    "\n",
    "    for _, movie in movies.iterrows():\n",
    "        match_accuracy = accuracy * movie[\"topic_accuracy\"]\n",
    "\n",
    "        title = Title(\n",
    "            accuracy=f\"{match_accuracy*100:.2f}%\",\n",
    "            title=movie[\"title\"],\n",
    "            score=movie[\"score\"],\n",
    "            link=f'https://www.imdb.com/title/{movie[\"id\"]}',\n",
    "        )\n",
    "\n",
    "        titles.append(title)\n",
    "\n",
    "pd.DataFrame(titles).sort_values(\"accuracy\", ascending=False)"
   ]
  },
  {
   "attachments": {},
   "cell_type": "markdown",
   "metadata": {},
   "source": [
    "## **5. Conclusão**\n",
    "\n",
    "Ficamos surpreendidos como um modelo simples é capáz de criar sugestões bastante precisas. E caso tivésse-mos uma base mais ampla, o quê não seria viável de adquirir no curto prazo, teríamos uma aplicação muito mais útil.\n",
    "\n",
    "Apesar de uma base de dados limitada, foi possível fazer um programa eficiente, capaz de encontrar bons resultados para a entrada do usuário. A base de dados também é enviesada por listar os 250 filmes mas bem avaliados da plataforma do IMDb, então caso o usuário insira a sinopse de um filme que não está na base, por exemplo, o programa irá sugerir diversos filmes com baixa acurácia."
   ]
  }
 ],
 "metadata": {
  "kernelspec": {
   "display_name": "Python 3 (ipykernel)",
   "language": "python",
   "name": "python3"
  },
  "language_info": {
   "codemirror_mode": {
    "name": "ipython",
    "version": 3
   },
   "file_extension": ".py",
   "mimetype": "text/x-python",
   "name": "python",
   "nbconvert_exporter": "python",
   "pygments_lexer": "ipython3",
   "version": "3.10.10"
  },
  "orig_nbformat": 4
 },
 "nbformat": 4,
 "nbformat_minor": 2
}
